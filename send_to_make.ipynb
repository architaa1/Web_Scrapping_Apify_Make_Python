{
 "cells": [
  {
   "cell_type": "code",
   "execution_count": 7,
   "id": "1d20d60f-7d88-4a7f-be2d-0e7d8b6e4e63",
   "metadata": {},
   "outputs": [
    {
     "name": "stdout",
     "output_type": "stream",
     "text": [
      "Status Code: 200\n",
      "Response Text: Accepted\n"
     ]
    }
   ],
   "source": [
    "import requests\n",
    "\n",
    "webhook_url = \"https://hook.eu2.make.com/gyyblieftoi4874tq35c8bx4wi2oc2t4\"\n",
    "\n",
    "lead_data = {\n",
    "    \"address\": \"Delhi, India\",\n",
    "    \"email/0\": \"contact@testcompany.com\",\n",
    "    \"phone\": \"+91-9876543210\",\n",
    "    \"title\": \"Test Company\",\n",
    "    \"website\": \"http://testcompany.com/\"\n",
    "}\n",
    "\n",
    "response = requests.post(webhook_url, json=lead_data)\n",
    "\n",
    "print(f\"Status Code: {response.status_code}\")\n",
    "print(\"Response Text:\", response.text)\n"
   ]
  },
  {
   "cell_type": "code",
   "execution_count": null,
   "id": "8ba39905-7db5-4e75-b7d1-c920b15c787e",
   "metadata": {},
   "outputs": [],
   "source": []
  }
 ],
 "metadata": {
  "kernelspec": {
   "display_name": "Python 3 (ipykernel)",
   "language": "python",
   "name": "python3"
  },
  "language_info": {
   "codemirror_mode": {
    "name": "ipython",
    "version": 3
   },
   "file_extension": ".py",
   "mimetype": "text/x-python",
   "name": "python",
   "nbconvert_exporter": "python",
   "pygments_lexer": "ipython3",
   "version": "3.11.7"
  }
 },
 "nbformat": 4,
 "nbformat_minor": 5
}
